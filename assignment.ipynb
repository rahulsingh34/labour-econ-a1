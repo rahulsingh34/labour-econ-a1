{
 "cells": [
  {
   "cell_type": "code",
   "execution_count": 6,
   "metadata": {},
   "outputs": [],
   "source": [
    "import pandas as pd\n",
    "import numpy as np\n",
    "import matplotlib as plt"
   ]
  },
  {
   "cell_type": "markdown",
   "metadata": {},
   "source": [
    "Import all datasets"
   ]
  },
  {
   "cell_type": "code",
   "execution_count": 7,
   "metadata": {},
   "outputs": [],
   "source": [
    "d13 = pd.read_stata('./data/2013', convert_categoricals=False)\n",
    "d14 = pd.read_stata('./data/2014', convert_categoricals=False)\n",
    "d15 = pd.read_stata('./data/2015', convert_categoricals=False)\n",
    "d16 = pd.read_stata('./data/2016', convert_categoricals=False)\n",
    "d17 = pd.read_stata('./data/2017', convert_categoricals=False)\n",
    "d18 = pd.read_stata('./data/2018', convert_categoricals=False)\n",
    "d19 = pd.read_stata('./data/2019', convert_categoricals=False)\n",
    "d20 = pd.read_stata('./data/2020', convert_categoricals=False)\n",
    "d21 = pd.read_stata('./data/2021', convert_categoricals=False)\n",
    "d22 = pd.read_stata('./data/2022', convert_categoricals=False)"
   ]
  },
  {
   "cell_type": "markdown",
   "metadata": {},
   "source": [
    "Recode pre-2017 LFSSTAT variables"
   ]
  },
  {
   "cell_type": "code",
   "execution_count": 8,
   "metadata": {},
   "outputs": [],
   "source": [
    "pre = pd.concat([d13, d14, d15, d16])\n",
    "\n",
    "def recode(LFSSTAT):\n",
    "\tif LFSSTAT == 4:\n",
    "\t\treturn 3\n",
    "\telif LFSSTAT == 5:\n",
    "\t\treturn 3\n",
    "\telif LFSSTAT == 6:\n",
    "\t\treturn 4\n",
    "\telse:\n",
    "\t\treturn LFSSTAT\n",
    "\n",
    "pre['LFSSTAT'] = pre['LFSSTAT'].apply(recode)"
   ]
  },
  {
   "cell_type": "markdown",
   "metadata": {},
   "source": [
    "Append the rest of the data to the master"
   ]
  },
  {
   "cell_type": "code",
   "execution_count": 9,
   "metadata": {},
   "outputs": [],
   "source": [
    "post = pd.concat([d17, d18, d19, d20, d21, d22])\n",
    "master = pd.concat([pre, post])"
   ]
  },
  {
   "cell_type": "markdown",
   "metadata": {},
   "source": [
    "QUESTION 1"
   ]
  },
  {
   "cell_type": "markdown",
   "metadata": {},
   "source": [
    "1a - How many observations are there?"
   ]
  },
  {
   "cell_type": "code",
   "execution_count": 10,
   "metadata": {},
   "outputs": [
    {
     "data": {
      "text/plain": [
       "2013    104170\n",
       "2014    104330\n",
       "2015    100303\n",
       "2016    103235\n",
       "2017    103752\n",
       "2018    102794\n",
       "2019    101343\n",
       "2020     87779\n",
       "2021     87573\n",
       "2022    111740\n",
       "Name: SURVYEAR, dtype: int64"
      ]
     },
     "execution_count": 10,
     "metadata": {},
     "output_type": "execute_result"
    }
   ],
   "source": [
    "master['SURVYEAR'].value_counts().sort_index()"
   ]
  },
  {
   "cell_type": "markdown",
   "metadata": {},
   "source": [
    "QUESTION 2"
   ]
  },
  {
   "cell_type": "markdown",
   "metadata": {},
   "source": [
    "2a - Compute the labour force participation based on the “LFSSTAT” variable, overall and separately by year. "
   ]
  },
  {
   "cell_type": "code",
   "execution_count": 11,
   "metadata": {},
   "outputs": [
    {
     "data": {
      "text/plain": [
       "SURVYEAR\n",
       "2013    0.658462\n",
       "2014    0.652391\n",
       "2015    0.653590\n",
       "2016    0.648230\n",
       "2017    0.651371\n",
       "2018    0.647839\n",
       "2019    0.647425\n",
       "2020    0.622586\n",
       "2021    0.622863\n",
       "2022    0.631403\n",
       "All     0.644148\n",
       "dtype: float64"
      ]
     },
     "execution_count": 11,
     "metadata": {},
     "output_type": "execute_result"
    }
   ],
   "source": [
    "LFPRD = pd.crosstab(master['SURVYEAR'], master['LFSSTAT'], margins=True)\n",
    "LFPR = (LFPRD[1] + LFPRD[2] + LFPRD[3]) / LFPRD['All']\n",
    "LFPR"
   ]
  },
  {
   "cell_type": "markdown",
   "metadata": {},
   "source": [
    "2b - Compute the labour force participation for men and women based on the “LFSSTAT” variable, oversall and separately by years."
   ]
  },
  {
   "cell_type": "code",
   "execution_count": 12,
   "metadata": {},
   "outputs": [],
   "source": [
    "males = master[master['SEX'] == 1]\n",
    "females = master[master['SEX'] == 2]"
   ]
  },
  {
   "cell_type": "markdown",
   "metadata": {},
   "source": [
    "Males"
   ]
  },
  {
   "cell_type": "code",
   "execution_count": 13,
   "metadata": {},
   "outputs": [
    {
     "data": {
      "text/plain": [
       "SURVYEAR\n",
       "2013    0.708689\n",
       "2014    0.701952\n",
       "2015    0.706169\n",
       "2016    0.694513\n",
       "2017    0.695485\n",
       "2018    0.693028\n",
       "2019    0.693011\n",
       "2020    0.669626\n",
       "2021    0.665381\n",
       "2022    0.672255\n",
       "All     0.690535\n",
       "dtype: float64"
      ]
     },
     "execution_count": 13,
     "metadata": {},
     "output_type": "execute_result"
    }
   ],
   "source": [
    "LFPRDm = pd.crosstab(males['SURVYEAR'], males['LFSSTAT'], margins=True)\n",
    "LFPRm = (LFPRDm[1] + LFPRDm[2] + LFPRDm[3]) / LFPRDm['All']\n",
    "LFPRm"
   ]
  },
  {
   "cell_type": "markdown",
   "metadata": {},
   "source": [
    "Females"
   ]
  },
  {
   "cell_type": "code",
   "execution_count": 14,
   "metadata": {},
   "outputs": [
    {
     "data": {
      "text/plain": [
       "SURVYEAR\n",
       "2013    0.611078\n",
       "2014    0.605587\n",
       "2015    0.604040\n",
       "2016    0.604596\n",
       "2017    0.609573\n",
       "2018    0.605046\n",
       "2019    0.604422\n",
       "2020    0.578036\n",
       "2021    0.582758\n",
       "2022    0.592897\n",
       "All     0.600343\n",
       "dtype: float64"
      ]
     },
     "execution_count": 14,
     "metadata": {},
     "output_type": "execute_result"
    }
   ],
   "source": [
    "LFPRDf = pd.crosstab(females['SURVYEAR'], females['LFSSTAT'], margins=True)\n",
    "LFPRf = (LFPRDf[1] + LFPRDf[2] + LFPRDf[3]) / LFPRDf['All']\n",
    "LFPRf"
   ]
  },
  {
   "cell_type": "markdown",
   "metadata": {},
   "source": [
    "2d - Table the participation variable by education for all years together and without separating by gender. For the education variable use “EDUC”."
   ]
  },
  {
   "cell_type": "code",
   "execution_count": 15,
   "metadata": {},
   "outputs": [
    {
     "data": {
      "text/plain": [
       "EDUC\n",
       "0.0    0.227290\n",
       "1.0    0.435972\n",
       "2.0    0.617459\n",
       "3.0    0.684808\n",
       "4.0    0.694530\n",
       "5.0    0.755551\n",
       "6.0    0.757659\n",
       "All    0.637896\n",
       "dtype: float64"
      ]
     },
     "execution_count": 15,
     "metadata": {},
     "output_type": "execute_result"
    }
   ],
   "source": [
    "LFPRDe = pd.crosstab(master['EDUC'], master['LFSSTAT'], margins=True)\n",
    "LFPRe = (LFPRDe[1] + LFPRDe[2] + LFPRDe[3]) / LFPRDe['All']\n",
    "LFPRe"
   ]
  },
  {
   "cell_type": "markdown",
   "metadata": {},
   "source": [
    "QUESTION 3"
   ]
  },
  {
   "cell_type": "markdown",
   "metadata": {},
   "source": [
    "3a - Conditional on working, do men and women show similar labour supply patterns? Compare the hours of work supplied in a week by men and women. Use UHRSMAIN as the hours worked variable.\n"
   ]
  },
  {
   "cell_type": "code",
   "execution_count": 16,
   "metadata": {},
   "outputs": [
    {
     "data": {
      "text/plain": [
       "count    314711.000000\n",
       "mean         39.247591\n",
       "std          11.965317\n",
       "min           0.100000\n",
       "25%          37.500000\n",
       "50%          40.000000\n",
       "75%          40.000000\n",
       "max          99.000000\n",
       "Name: UHRSMAIN, dtype: float64"
      ]
     },
     "execution_count": 16,
     "metadata": {},
     "output_type": "execute_result"
    }
   ],
   "source": [
    "males['UHRSMAIN'].describe()"
   ]
  },
  {
   "cell_type": "code",
   "execution_count": 17,
   "metadata": {},
   "outputs": [
    {
     "data": {
      "text/plain": [
       "count    292246.000000\n",
       "mean         33.237844\n",
       "std          11.154929\n",
       "min           0.100000\n",
       "25%          29.000000\n",
       "50%          37.000000\n",
       "75%          40.000000\n",
       "max          99.000000\n",
       "Name: UHRSMAIN, dtype: float64"
      ]
     },
     "execution_count": 17,
     "metadata": {},
     "output_type": "execute_result"
    }
   ],
   "source": [
    "females['UHRSMAIN'].describe()"
   ]
  },
  {
   "cell_type": "markdown",
   "metadata": {},
   "source": [
    "3b - Illustrate in a histogram. Use UHRSMAIN as the hours worked variable. Interpret any findings related to the distribution of hours worked by gender. "
   ]
  },
  {
   "cell_type": "code",
   "execution_count": 27,
   "metadata": {},
   "outputs": [],
   "source": [
    "hrsMales = males[males['UHRSMAIN'] >= 0]\n",
    "hrsFemales = females[females['UHRSMAIN'] >= 0]"
   ]
  },
  {
   "cell_type": "code",
   "execution_count": 37,
   "metadata": {},
   "outputs": [
    {
     "data": {
      "text/plain": [
       "<AxesSubplot: >"
      ]
     },
     "execution_count": 37,
     "metadata": {},
     "output_type": "execute_result"
    },
    {
     "data": {
      "image/png": "[encoded data removed]",
      "text/plain": [
       "<Figure size 432x288 with 1 Axes>"
      ]
     },
     "metadata": {
      "needs_background": "light"
     },
     "output_type": "display_data"
    }
   ],
   "source": [
    "hrsMales['UHRSMAIN'].hist(bins=10)"
   ]
  },
  {
   "cell_type": "code",
   "execution_count": 68,
   "metadata": {},
   "outputs": [
    {
     "data": {
      "text/plain": [
       "<AxesSubplot: >"
      ]
     },
     "execution_count": 68,
     "metadata": {},
     "output_type": "execute_result"
    },
    {
     "data": {
      "image/png": "[encoded data removed]",
      "text/plain": [
       "<Figure size 432x288 with 1 Axes>"
      ]
     },
     "metadata": {
      "needs_background": "light"
     },
     "output_type": "display_data"
    }
   ],
   "source": [
    "hrsFemales['UHRSMAIN'].hist(bins=10)"
   ]
  },
  {
   "cell_type": "markdown",
   "metadata": {},
   "source": [
    "3c - Tabulate the average hours worked by education level for men"
   ]
  },
  {
   "cell_type": "code",
   "execution_count": 54,
   "metadata": {},
   "outputs": [
    {
     "data": {
      "text/plain": [
       "EDUC\n",
       "0.0    39.820034\n",
       "1.0    35.764868\n",
       "2.0    39.791675\n",
       "3.0    35.995281\n",
       "4.0    40.328921\n",
       "5.0    38.514599\n",
       "6.0    38.334204\n",
       "Name: UHRSMAIN, dtype: float64"
      ]
     },
     "execution_count": 54,
     "metadata": {},
     "output_type": "execute_result"
    }
   ],
   "source": [
    "avgMaleHRS = hrsMales.groupby('EDUC').mean()\n",
    "avgMaleHRS['UHRSMAIN']"
   ]
  },
  {
   "cell_type": "markdown",
   "metadata": {},
   "source": [
    "3e - Tabulate hours worked by education level for women"
   ]
  },
  {
   "cell_type": "code",
   "execution_count": 55,
   "metadata": {},
   "outputs": [
    {
     "data": {
      "text/plain": [
       "EDUC\n",
       "0.0    30.629449\n",
       "1.0    26.012854\n",
       "2.0    32.991672\n",
       "3.0    30.647688\n",
       "4.0    34.063611\n",
       "5.0    34.509396\n",
       "6.0    35.261259\n",
       "Name: UHRSMAIN, dtype: float64"
      ]
     },
     "execution_count": 55,
     "metadata": {},
     "output_type": "execute_result"
    }
   ],
   "source": [
    "avgFemaleHRS = hrsFemales.groupby('EDUC').mean()\n",
    "avgFemaleHRS['UHRSMAIN']"
   ]
  }
 ],
 "metadata": {
  "kernelspec": {
   "display_name": "Python 3.9.5 64-bit",
   "language": "python",
   "name": "python3"
  },
  "language_info": {
   "codemirror_mode": {
    "name": "ipython",
    "version": 3
   },
   "file_extension": ".py",
   "mimetype": "text/x-python",
   "name": "python",
   "nbconvert_exporter": "python",
   "pygments_lexer": "ipython3",
   "version": "3.9.5"
  },
  "orig_nbformat": 4,
  "vscode": {
   "interpreter": {
    "hash": "aee8b7b246df8f9039afb4144a1f6fd8d2ca17a180786b69acc140d282b71a49"
   }
  }
 },
 "nbformat": 4,
 "nbformat_minor": 2
}
